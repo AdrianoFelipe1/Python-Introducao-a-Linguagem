{
 "cells": [
  {
   "cell_type": "markdown",
   "metadata": {},
   "source": [
    "## Prática Proposta - Aula 07\n",
    "\n",
    "Como sugestão de prática, indicamos você a criar um novo script python seguindo as orientações a seguir:\n",
    "\n",
    "Crie uma lista de móveis de uma casa;\n",
    "Adicione um elemento no final da lista;\n",
    "Remova um elemento pelo seu índice.\n",
    "\n"
   ]
  },
  {
   "cell_type": "code",
   "execution_count": null,
   "metadata": {},
   "outputs": [],
   "source": [
    "moveis = ['Armário','Guarda-Roupas','Sofá','Mesa','Poltronas','Cama']\n",
    "moveis.append('Estante')\n",
    "moveis.pop(1)\n",
    "print(moveis)\n",
    "\n"
   ]
  }
 ],
 "metadata": {
  "kernelspec": {
   "display_name": "Python 3",
   "language": "python",
   "name": "python3"
  },
  "language_info": {
   "codemirror_mode": {
    "name": "ipython",
    "version": 3
   },
   "file_extension": ".py",
   "mimetype": "text/x-python",
   "name": "python",
   "nbconvert_exporter": "python",
   "pygments_lexer": "ipython3",
   "version": "3.12.0"
  }
 },
 "nbformat": 4,
 "nbformat_minor": 2
}
