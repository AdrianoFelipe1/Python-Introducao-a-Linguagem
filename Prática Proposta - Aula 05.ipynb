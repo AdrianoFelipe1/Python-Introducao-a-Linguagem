{
 "cells": [
  {
   "cell_type": "markdown",
   "metadata": {},
   "source": [
    "## Prática Proposta - Aula 05\n",
    "Como sugestão de prática, indicamos você a criar um novo script python seguindo as orientações a seguir:\n",
    "\n",
    "Crie uma string contendo o alfabeto com letras maiúsculas separado por espaços.\n",
    "Percorra e imprima essa string com enumerate.\n",
    "Substitua os espaços por traço. “-” e imprima para o usuário."
   ]
  },
  {
   "cell_type": "code",
   "execution_count": 17,
   "metadata": {},
   "outputs": [
    {
     "name": "stdout",
     "output_type": "stream",
     "text": [
      "0 A\n",
      "1  \n",
      "2 B\n",
      "3  \n",
      "4 C\n",
      "5  \n",
      "6 D\n",
      "7  \n",
      "8 E\n",
      "9  \n",
      "10 F\n",
      "11  \n",
      "12 G\n",
      "13  \n",
      "14 H\n",
      "15  \n",
      "16 I\n",
      "17  \n",
      "18 J\n",
      "19  \n",
      "20 K\n",
      "21  \n",
      "22 L\n",
      "23  \n",
      "24 M\n",
      "25  \n",
      "26 N\n",
      "27  \n",
      "28 O\n",
      "29  \n",
      "30 P\n",
      "31  \n",
      "32 Q\n",
      "33  \n",
      "34 R\n",
      "35  \n",
      "36 S\n",
      "37  \n",
      "38 T\n",
      "39  \n",
      "40 U\n",
      "41  \n",
      "42 V\n",
      "43  \n",
      "44 W\n",
      "45  \n",
      "46 X\n",
      "47  \n",
      "48 Y\n",
      "49  \n",
      "50 Z\n",
      "A-B-C-D-E-F-G-H-I-J-K-L-M-N-O-P-Q-R-S-T-U-V-W-X-Y-Z\n"
     ]
    }
   ],
   "source": [
    "alfabeto = \"A B C D E F G H I J K L M N O P Q R S T U V W X Y Z\"\n",
    "\n",
    "for k, v  in enumerate(alfabeto):\n",
    "    print(k, v)\n",
    "print(alfabeto.replace(\" \", \"-\"))"
   ]
  }
 ],
 "metadata": {
  "kernelspec": {
   "display_name": "Python 3",
   "language": "python",
   "name": "python3"
  },
  "language_info": {
   "codemirror_mode": {
    "name": "ipython",
    "version": 3
   },
   "file_extension": ".py",
   "mimetype": "text/x-python",
   "name": "python",
   "nbconvert_exporter": "python",
   "pygments_lexer": "ipython3",
   "version": "3.12.0"
  }
 },
 "nbformat": 4,
 "nbformat_minor": 2
}
