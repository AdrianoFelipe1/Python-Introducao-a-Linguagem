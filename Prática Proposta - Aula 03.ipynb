{
 "cells": [
  {
   "cell_type": "code",
   "execution_count": null,
   "metadata": {},
   "outputs": [],
   "source": [
    "# Prática Proposta - Aula 03\n",
    "Como sugestão de prática, indicamos você a criar um novo script python seguindo as orientações a seguir:\n",
    "\n",
    "Crie uma variável número e atribua o valor 15 a ela.\n",
    "Crie um comando de condição para verificar se ela é == a 15, \n",
    "Menor que 15, maior que 15.\n",
    "\n",
    "Informar através de print a informação para o usuário."
   ]
  },
  {
   "cell_type": "code",
   "execution_count": 11,
   "metadata": {},
   "outputs": [
    {
     "name": "stdout",
     "output_type": "stream",
     "text": [
      "Este número é maior que 15:\n"
     ]
    }
   ],
   "source": [
    "numero = 20\n",
    "\n",
    "if numero == 15:\n",
    "        print (\"Este número é igual a 15:\")\n",
    "elif numero < 15:\n",
    "    print (\"Este número é menor que 15:\")\n",
    "elif numero > 15:\n",
    "    print (\"Este número é maior que 15:\")\n",
    "    \n",
    "\n"
   ]
  }
 ],
 "metadata": {
  "kernelspec": {
   "display_name": "Python 3",
   "language": "python",
   "name": "python3"
  },
  "language_info": {
   "codemirror_mode": {
    "name": "ipython",
    "version": 3
   },
   "file_extension": ".py",
   "mimetype": "text/x-python",
   "name": "python",
   "nbconvert_exporter": "python",
   "pygments_lexer": "ipython3",
   "version": "3.12.0"
  }
 },
 "nbformat": 4,
 "nbformat_minor": 2
}
