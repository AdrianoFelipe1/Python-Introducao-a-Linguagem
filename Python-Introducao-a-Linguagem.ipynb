{
  "cells": [
    {
      "cell_type": "markdown",
      "metadata": {
        "id": "4mhc0hNVV1sq"
      },
      "source": [
        "# Aula 01 – Introdução a Linguagem\n"
      ]
    },
    {
      "cell_type": "code",
      "execution_count": null,
      "metadata": {
        "colab": {
          "base_uri": "https://localhost:8080/"
        },
        "id": "0CZzVDoTzSTU",
        "outputId": "dbb2f852-c2c4-4eed-985e-2aebe407ea48"
      },
      "outputs": [],
      "source": [
        "#Esta linha imprime um texto.\n",
        "print (\"Olá mundo!\")"
      ]
    },
    {
      "cell_type": "code",
      "execution_count": null,
      "metadata": {
        "colab": {
          "base_uri": "https://localhost:8080/"
        },
        "id": "ekVYGpGu57_O",
        "outputId": "776d2457-2db1-4ba5-8142-e199a7d0562a"
      },
      "outputs": [],
      "source": [
        "'''\n",
        "Este é um comentario\n",
        "longo do\n",
        "Python.\n",
        "'''\n",
        "print(\"Olá mundo!\")\n"
      ]
    },
    {
      "cell_type": "code",
      "execution_count": null,
      "metadata": {
        "id": "Y8VGOKrk6bgw"
      },
      "outputs": [],
      "source": [
        "#print(\"Olá mundo!\")"
      ]
    },
    {
      "cell_type": "markdown",
      "metadata": {
        "id": "QoCxBi-ED63y"
      },
      "source": [
        "**Indentação**"
      ]
    },
    {
      "cell_type": "code",
      "execution_count": null,
      "metadata": {
        "colab": {
          "base_uri": "https://localhost:8080/"
        },
        "id": "_wyQcfoRD939",
        "outputId": "3fa42c1d-cb32-4b2d-e812-aa97439d126f"
      },
      "outputs": [],
      "source": [
        "x = 0\n",
        "y = 0\n",
        "if x ==0:\n",
        "  print(\"X é igual a 10.\")\n",
        "  print(\"X é igual a 10.\")\n",
        "\n",
        "if y == 0:\n",
        "  print(\"X é igual a 10.\")\n",
        "\n",
        "\n",
        "  print(\"X é igual a 10.\")"
      ]
    },
    {
      "cell_type": "markdown",
      "metadata": {
        "id": "QfZbO5jzFsss"
      },
      "source": [
        "**Variáveis**"
      ]
    },
    {
      "cell_type": "code",
      "execution_count": null,
      "metadata": {
        "id": "SUJS1utrF_xU"
      },
      "outputs": [],
      "source": [
        "idade = 32\n",
        "peso = 65.4\n",
        "nome = \"José\"\n",
        "situacao = True\n",
        "situacao2 = False"
      ]
    },
    {
      "cell_type": "markdown",
      "metadata": {
        "id": "vvTDlvCcKqVY"
      },
      "source": [
        "**Tipos de dados**\n",
        "\n"
      ]
    },
    {
      "cell_type": "code",
      "execution_count": null,
      "metadata": {
        "colab": {
          "base_uri": "https://localhost:8080/"
        },
        "id": "1E1JcqDAKymq",
        "outputId": "74ced7c7-f6f8-4c82-c8d3-7116742e7e6c"
      },
      "outputs": [],
      "source": [
        "idade = 32\n",
        "peso = 65.4\n",
        "nome = \"José\"\n",
        "situacao = True\n",
        "situacao2 = False\n",
        "\n",
        "type(idade)\n",
        "type(peso)\n",
        "type(nome)\n",
        "type(situacao)"
      ]
    },
    {
      "cell_type": "markdown",
      "metadata": {
        "id": "ymuAJaztVwxp"
      },
      "source": [
        "# Aula 02 - Manipulação de Dados"
      ]
    },
    {
      "cell_type": "markdown",
      "metadata": {},
      "source": [
        "**Saída de dados**"
      ]
    },
    {
      "cell_type": "code",
      "execution_count": null,
      "metadata": {},
      "outputs": [],
      "source": [
        "print(\"Olá mundo!\")"
      ]
    },
    {
      "cell_type": "code",
      "execution_count": null,
      "metadata": {},
      "outputs": [],
      "source": [
        "nome = \"José\"\n",
        "idade = 30\n",
        "peso = 65.4\n",
        "\n",
        "print(nome)\n",
        "print(idade)\n",
        "print(peso)\n"
      ]
    },
    {
      "cell_type": "code",
      "execution_count": null,
      "metadata": {},
      "outputs": [],
      "source": [
        "nome = \"José\"\n",
        "\n",
        "print (\"Meu nome é\", nome, \"e minha idade é\", idade,\".\")"
      ]
    },
    {
      "cell_type": "code",
      "execution_count": null,
      "metadata": {},
      "outputs": [],
      "source": [
        "print ('23','11','2023', sep='/')"
      ]
    },
    {
      "cell_type": "code",
      "execution_count": null,
      "metadata": {},
      "outputs": [],
      "source": [
        "print ('2023','11','23', sep='-')"
      ]
    },
    {
      "cell_type": "code",
      "execution_count": null,
      "metadata": {},
      "outputs": [],
      "source": [
        "print ('B','n','n','.', sep='a')"
      ]
    },
    {
      "cell_type": "markdown",
      "metadata": {},
      "source": [
        "**Entrada de Dados**"
      ]
    },
    {
      "cell_type": "code",
      "execution_count": null,
      "metadata": {},
      "outputs": [],
      "source": [
        "nome = input(\"Escreva seu nome: \")#String\n",
        "idade = int(input(\"Escreva sua idade: \"))#Inteiro\n",
        "peso = float(input(\"Escreva seu peso: \"))#Float\n",
        "\n",
        "print(nome)\n",
        "print(idade)\n",
        "print(peso)\n",
        "\n"
      ]
    },
    {
      "cell_type": "code",
      "execution_count": null,
      "metadata": {},
      "outputs": [],
      "source": [
        "#+, -, /, *, //, %\n",
        "a = 4 \n",
        "b = 4\n",
        "\n",
        "print(a + b)#Adição\n",
        "print(5 - 2)#Subtração\n",
        "print(2 * 5)#Multiplicação\n",
        "print(10 / 6)#Divisão\n",
        "print(10 // 6)#Divisão Exata\n",
        "print(10 % 3)#Resto\n",
        "\n",
        "\n"
      ]
    },
    {
      "cell_type": "markdown",
      "metadata": {},
      "source": [
        "# Aula 03 - Estruturas de Condição"
      ]
    },
    {
      "cell_type": "markdown",
      "metadata": {},
      "source": [
        "**Operadores de relação e condição** "
      ]
    },
    {
      "cell_type": "code",
      "execution_count": null,
      "metadata": {},
      "outputs": [],
      "source": [
        "#Operadores relacionais \n",
        "#>, <, >=, <= "
      ]
    },
    {
      "cell_type": "markdown",
      "metadata": {},
      "source": [
        "**O comando IF ELSE**"
      ]
    },
    {
      "cell_type": "code",
      "execution_count": 2,
      "metadata": {},
      "outputs": [
        {
          "name": "stdout",
          "output_type": "stream",
          "text": [
            "Este número não é igual a 10!\n"
          ]
        }
      ],
      "source": [
        "numero = 11\n",
        "\n",
        "if numero == 10:#True \n",
        "   print (\"Este número é igual a 10!\")\n",
        "else:#False\n",
        "   print (\"Este número não é igual a 10!\")\n"
      ]
    },
    {
      "cell_type": "markdown",
      "metadata": {},
      "source": [
        "**O comando ELIF** "
      ]
    },
    {
      "cell_type": "code",
      "execution_count": 4,
      "metadata": {},
      "outputs": [
        {
          "name": "stdout",
          "output_type": "stream",
          "text": [
            "Este número não é igual a 10, 11, 12 ou 13!\n"
          ]
        }
      ],
      "source": [
        "numero = 8\n",
        "if numero == 10:\n",
        "   print (\"Este número é igual a 10!\")\n",
        "elif numero == 11:\n",
        "      print (\"Este número é igual a 11!\")\n",
        "elif numero == 12:\n",
        "        print (\"Este número é igual a 12!\")\n",
        "elif numero == 13:\n",
        "         print (\"Este número é igual a 13!\")\n",
        "else:\n",
        "          print (\"Este número não é igual a 10, 11, 12 ou 13!\")\n",
        "\n",
        "\n"
      ]
    }
  ],
  "metadata": {
    "colab": {
      "provenance": [],
      "toc_visible": true
    },
    "kernelspec": {
      "display_name": "Python 3",
      "name": "python3"
    },
    "language_info": {
      "codemirror_mode": {
        "name": "ipython",
        "version": 3
      },
      "file_extension": ".py",
      "mimetype": "text/x-python",
      "name": "python",
      "nbconvert_exporter": "python",
      "pygments_lexer": "ipython3",
      "version": "3.12.0"
    }
  },
  "nbformat": 4,
  "nbformat_minor": 0
}
