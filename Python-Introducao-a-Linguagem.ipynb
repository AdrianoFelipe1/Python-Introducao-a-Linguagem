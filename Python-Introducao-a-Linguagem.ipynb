{
  "cells": [
    {
      "cell_type": "markdown",
      "metadata": {
        "id": "4mhc0hNVV1sq"
      },
      "source": [
        "# Aula 01 – Introdução a Linguagem\n"
      ]
    },
    {
      "cell_type": "code",
      "execution_count": null,
      "metadata": {
        "colab": {
          "base_uri": "https://localhost:8080/"
        },
        "id": "0CZzVDoTzSTU",
        "outputId": "dbb2f852-c2c4-4eed-985e-2aebe407ea48"
      },
      "outputs": [],
      "source": [
        "#Esta linha imprime um texto.\n",
        "print (\"Olá mundo!\")"
      ]
    },
    {
      "cell_type": "code",
      "execution_count": null,
      "metadata": {
        "colab": {
          "base_uri": "https://localhost:8080/"
        },
        "id": "ekVYGpGu57_O",
        "outputId": "776d2457-2db1-4ba5-8142-e199a7d0562a"
      },
      "outputs": [],
      "source": [
        "'''\n",
        "Este é um comentario\n",
        "longo do\n",
        "Python.\n",
        "'''\n",
        "print(\"Olá mundo!\")\n"
      ]
    },
    {
      "cell_type": "code",
      "execution_count": null,
      "metadata": {
        "id": "Y8VGOKrk6bgw"
      },
      "outputs": [],
      "source": [
        "#print(\"Olá mundo!\")"
      ]
    },
    {
      "cell_type": "markdown",
      "metadata": {
        "id": "QoCxBi-ED63y"
      },
      "source": [
        "**Indentação**"
      ]
    },
    {
      "cell_type": "code",
      "execution_count": null,
      "metadata": {
        "colab": {
          "base_uri": "https://localhost:8080/"
        },
        "id": "_wyQcfoRD939",
        "outputId": "3fa42c1d-cb32-4b2d-e812-aa97439d126f"
      },
      "outputs": [],
      "source": [
        "x = 0\n",
        "y = 0\n",
        "if x ==0:\n",
        "  print(\"X é igual a 10.\")\n",
        "  print(\"X é igual a 10.\")\n",
        "\n",
        "if y == 0:\n",
        "  print(\"X é igual a 10.\")\n",
        "\n",
        "\n",
        "  print(\"X é igual a 10.\")"
      ]
    },
    {
      "cell_type": "markdown",
      "metadata": {
        "id": "QfZbO5jzFsss"
      },
      "source": [
        "**Variáveis**"
      ]
    },
    {
      "cell_type": "code",
      "execution_count": null,
      "metadata": {
        "id": "SUJS1utrF_xU"
      },
      "outputs": [],
      "source": [
        "idade = 32\n",
        "peso = 65.4\n",
        "nome = \"José\"\n",
        "situacao = True\n",
        "situacao2 = False"
      ]
    },
    {
      "cell_type": "markdown",
      "metadata": {
        "id": "vvTDlvCcKqVY"
      },
      "source": [
        "**Tipos de dados**\n",
        "\n"
      ]
    },
    {
      "cell_type": "code",
      "execution_count": null,
      "metadata": {
        "colab": {
          "base_uri": "https://localhost:8080/"
        },
        "id": "1E1JcqDAKymq",
        "outputId": "74ced7c7-f6f8-4c82-c8d3-7116742e7e6c"
      },
      "outputs": [],
      "source": [
        "idade = 32\n",
        "peso = 65.4\n",
        "nome = \"José\"\n",
        "situacao = True\n",
        "situacao2 = False\n",
        "\n",
        "type(idade)\n",
        "type(peso)\n",
        "type(nome)\n",
        "type(situacao)"
      ]
    },
    {
      "cell_type": "markdown",
      "metadata": {
        "id": "ymuAJaztVwxp"
      },
      "source": [
        "# Aula 02 - Manipulação de Dados"
      ]
    },
    {
      "cell_type": "markdown",
      "metadata": {},
      "source": [
        "**Saída de dados**"
      ]
    },
    {
      "cell_type": "code",
      "execution_count": null,
      "metadata": {},
      "outputs": [],
      "source": [
        "print(\"Olá mundo!\")"
      ]
    },
    {
      "cell_type": "code",
      "execution_count": null,
      "metadata": {},
      "outputs": [],
      "source": [
        "nome = \"José\"\n",
        "idade = 30\n",
        "peso = 65.4\n",
        "\n",
        "print(nome)\n",
        "print(idade)\n",
        "print(peso)\n"
      ]
    },
    {
      "cell_type": "code",
      "execution_count": null,
      "metadata": {},
      "outputs": [],
      "source": [
        "nome = \"José\"\n",
        "\n",
        "print (\"Meu nome é\", nome, \"e minha idade é\", idade,\".\")"
      ]
    },
    {
      "cell_type": "code",
      "execution_count": null,
      "metadata": {},
      "outputs": [],
      "source": [
        "print ('23','11','2023', sep='/')"
      ]
    },
    {
      "cell_type": "code",
      "execution_count": null,
      "metadata": {},
      "outputs": [],
      "source": [
        "print ('2023','11','23', sep='-')"
      ]
    },
    {
      "cell_type": "code",
      "execution_count": null,
      "metadata": {},
      "outputs": [],
      "source": [
        "print ('B','n','n','.', sep='a')"
      ]
    },
    {
      "cell_type": "markdown",
      "metadata": {},
      "source": [
        "**Entrada de Dados**"
      ]
    },
    {
      "cell_type": "code",
      "execution_count": null,
      "metadata": {},
      "outputs": [],
      "source": [
        "nome = input(\"Escreva seu nome: \")#String\n",
        "idade = int(input(\"Escreva sua idade: \"))#Inteiro\n",
        "peso = float(input(\"Escreva seu peso: \"))#Float\n",
        "\n",
        "print(nome)\n",
        "print(idade)\n",
        "print(peso)\n",
        "\n"
      ]
    },
    {
      "cell_type": "code",
      "execution_count": null,
      "metadata": {},
      "outputs": [],
      "source": [
        "#+, -, /, *, //, %\n",
        "a = 4 \n",
        "b = 4\n",
        "\n",
        "print(a + b)#Adição\n",
        "print(5 - 2)#Subtração\n",
        "print(2 * 5)#Multiplicação\n",
        "print(10 / 6)#Divisão\n",
        "print(10 // 6)#Divisão Exata\n",
        "print(10 % 3)#Resto\n",
        "\n",
        "\n"
      ]
    },
    {
      "cell_type": "markdown",
      "metadata": {},
      "source": [
        "# Aula 03 - Estruturas de Condição"
      ]
    },
    {
      "cell_type": "markdown",
      "metadata": {},
      "source": [
        "**Operadores de relação e condição** "
      ]
    },
    {
      "cell_type": "code",
      "execution_count": null,
      "metadata": {},
      "outputs": [],
      "source": [
        "#Operadores relacionais \n",
        "#>, <, >=, <= "
      ]
    },
    {
      "cell_type": "markdown",
      "metadata": {},
      "source": [
        "**O comando IF ELSE**"
      ]
    },
    {
      "cell_type": "code",
      "execution_count": null,
      "metadata": {},
      "outputs": [],
      "source": [
        "numero = 11\n",
        "\n",
        "if numero == 10:#True \n",
        "   print (\"Este número é igual a 10!\")\n",
        "else:#False\n",
        "   print (\"Este número não é igual a 10!\")\n"
      ]
    },
    {
      "cell_type": "markdown",
      "metadata": {},
      "source": [
        "**O comando ELIF** "
      ]
    },
    {
      "cell_type": "code",
      "execution_count": null,
      "metadata": {},
      "outputs": [],
      "source": [
        "numero = 8\n",
        "if numero == 10:\n",
        "   print (\"Este número é igual a 10!\")\n",
        "elif numero == 11:\n",
        "      print (\"Este número é igual a 11!\")\n",
        "elif numero == 12:\n",
        "        print (\"Este número é igual a 12!\")\n",
        "elif numero == 13:\n",
        "         print (\"Este número é igual a 13!\")\n",
        "else:\n",
        "          print (\"Este número não é igual a 10, 11, 12 ou 13!\")\n",
        "\n",
        "\n"
      ]
    },
    {
      "cell_type": "markdown",
      "metadata": {},
      "source": [
        "# Aula 04 – Estruturas de controle de fluxo\n"
      ]
    },
    {
      "cell_type": "markdown",
      "metadata": {},
      "source": [
        "**Laço while**"
      ]
    },
    {
      "cell_type": "code",
      "execution_count": null,
      "metadata": {},
      "outputs": [],
      "source": [
        "i = 1\n",
        "while (i<=10):\n",
        "    print(\"O loop está rodando.....\")\n",
        "    print(i)\n",
        "    i+=1"
      ]
    },
    {
      "cell_type": "markdown",
      "metadata": {},
      "source": [
        "**Laço de repetição FOR**"
      ]
    },
    {
      "cell_type": "code",
      "execution_count": null,
      "metadata": {},
      "outputs": [],
      "source": [
        "for i in \"Python\":\n",
        "    print(i)"
      ]
    },
    {
      "cell_type": "code",
      "execution_count": null,
      "metadata": {},
      "outputs": [],
      "source": [
        "num = [1,5,6,7]\n",
        "\n",
        "for j in num:\n",
        "    print(j)"
      ]
    },
    {
      "cell_type": "markdown",
      "metadata": {},
      "source": [
        "**FOR RANGE**"
      ]
    },
    {
      "cell_type": "code",
      "execution_count": null,
      "metadata": {},
      "outputs": [],
      "source": [
        "for i in range(10):\n",
        "    print(i+1)"
      ]
    },
    {
      "cell_type": "code",
      "execution_count": null,
      "metadata": {},
      "outputs": [],
      "source": [
        "for j in range (9, -1, -1):\n",
        "    print(j)"
      ]
    },
    {
      "cell_type": "markdown",
      "metadata": {},
      "source": [
        "**Break e Continue**"
      ]
    },
    {
      "cell_type": "code",
      "execution_count": null,
      "metadata": {},
      "outputs": [],
      "source": [
        "#Break\n",
        "for i in range(10):\n",
        "   print (i)\n",
        "   if (i == 5):\n",
        "    break"
      ]
    },
    {
      "cell_type": "code",
      "execution_count": null,
      "metadata": {},
      "outputs": [],
      "source": [
        "i = 0\n",
        "while (i<10):\n",
        "    i+=1\n",
        "    if (i%2==0):#É par\n",
        "        continue\n",
        "    print(i)"
      ]
    },
    {
      "cell_type": "markdown",
      "metadata": {},
      "source": [
        "# Aula 05 – Strings\n"
      ]
    },
    {
      "cell_type": "markdown",
      "metadata": {},
      "source": [
        "**Introdução a Strings**"
      ]
    },
    {
      "cell_type": "code",
      "execution_count": null,
      "metadata": {},
      "outputs": [],
      "source": [
        "nome = \"Jose de Souza Magalhães\"\n",
        "nome2 = 'Jose de Souza Magalhães'\n",
        "nome3 = '''\n",
        "Está é uma String longa \n",
        "contendo informações sobre \n",
        "Python\n",
        "'''\n",
        "\n",
        "nome4 =\"\"\"\n",
        "Está é outra string longa\n",
        "contendo informações sobre \n",
        "Python\n",
        "\"\"\"\n",
        "print(nome)\n",
        "print(nome2)\n",
        "print(nome3)\n",
        "print(nome4)"
      ]
    },
    {
      "cell_type": "markdown",
      "metadata": {},
      "source": [
        "**Propriedade das Strings**"
      ]
    },
    {
      "cell_type": "code",
      "execution_count": null,
      "metadata": {},
      "outputs": [],
      "source": [
        "l = 'lista de letras'\n",
        "data = '15/09/1991'\n",
        "\n",
        "#tamanho da string\n",
        "tamanho = len(l)\n",
        "print(tamanho)\n",
        "\n",
        "#split da string\n",
        "lista = l.split(\" \")\n",
        "print(lista)\n",
        "lista2 = data.split(\"/\")\n",
        "print(lista2)\n",
        "\n",
        "#substituição\n",
        "print(l.replace(\" de \", \"#\")) "
      ]
    },
    {
      "cell_type": "markdown",
      "metadata": {},
      "source": [
        "**Fatiando Strings**\n"
      ]
    },
    {
      "cell_type": "code",
      "execution_count": null,
      "metadata": {},
      "outputs": [],
      "source": [
        "#    012345\n",
        "#    -6-5-4-3-2-1\n",
        "nome ='python'\n",
        "nova_string = nome [-2]\n",
        "print(nova_string)"
      ]
    },
    {
      "cell_type": "markdown",
      "metadata": {},
      "source": [
        "**Comparando Strings**\n"
      ]
    },
    {
      "cell_type": "code",
      "execution_count": null,
      "metadata": {},
      "outputs": [],
      "source": [
        "print(\"a\"==\"b\")\n",
        "print(\"b\"!=\"a\")\n",
        "print(\"a\">\"X\")\n",
        "print(\"a\">\"1\")"
      ]
    },
    {
      "cell_type": "code",
      "execution_count": 11,
      "metadata": {},
      "outputs": [
        {
          "name": "stdout",
          "output_type": "stream",
          "text": [
            "0-\u0000\n",
            "1-\u0001\n",
            "2-\u0002\n",
            "3-\u0003\n",
            "4-\u0004\n",
            "5-\u0005\n",
            "6-\u0006\n",
            "7-\u0007\n",
            "8\n",
            "9-\t\n",
            "10-\n",
            "\n",
            "11-\u000b\n",
            "12-\f\n",
            "13-\n",
            "14-\u000e\n",
            "15-\u000f\n",
            "16-\u0010\n",
            "17-\u0011\n",
            "18-\u0012\n",
            "19-\u0013\n",
            "20-\u0014\n",
            "21-\u0015\n",
            "22-\u0016\n",
            "23-\u0017\n",
            "24-\u0018\n",
            "25-\u0019\n",
            "26-\u001a\n",
            "27-\u001b\n",
            "28-\u001c\n",
            "29-\u001d\n",
            "30-\u001e\n",
            "31-\u001f\n",
            "32- \n",
            "33-!\n",
            "34-\"\n",
            "35-#\n",
            "36-$\n",
            "37-%\n",
            "38-&\n",
            "39-'\n",
            "40-(\n",
            "41-)\n",
            "42-*\n",
            "43-+\n",
            "44-,\n",
            "45--\n",
            "46-.\n",
            "47-/\n",
            "48-0\n",
            "49-1\n",
            "50-2\n",
            "51-3\n",
            "52-4\n",
            "53-5\n",
            "54-6\n",
            "55-7\n",
            "56-8\n",
            "57-9\n",
            "58-:\n",
            "59-;\n",
            "60-<\n",
            "61-=\n",
            "62->\n",
            "63-?\n",
            "64-@\n",
            "65-A\n",
            "66-B\n",
            "67-C\n",
            "68-D\n",
            "69-E\n",
            "70-F\n",
            "71-G\n",
            "72-H\n",
            "73-I\n",
            "74-J\n",
            "75-K\n",
            "76-L\n",
            "77-M\n",
            "78-N\n",
            "79-O\n",
            "80-P\n",
            "81-Q\n",
            "82-R\n",
            "83-S\n",
            "84-T\n",
            "85-U\n",
            "86-V\n",
            "87-W\n",
            "88-X\n",
            "89-Y\n",
            "90-Z\n",
            "91-[\n",
            "92-\\\n",
            "93-]\n",
            "94-^\n",
            "95-_\n",
            "96-`\n",
            "97-a\n",
            "98-b\n",
            "99-c\n",
            "100-d\n",
            "101-e\n",
            "102-f\n",
            "103-g\n",
            "104-h\n",
            "105-i\n",
            "106-j\n",
            "107-k\n",
            "108-l\n",
            "109-m\n",
            "110-n\n",
            "111-o\n",
            "112-p\n",
            "113-q\n",
            "114-r\n",
            "115-s\n",
            "116-t\n",
            "117-u\n",
            "118-v\n",
            "119-w\n",
            "120-x\n",
            "121-y\n"
          ]
        }
      ],
      "source": [
        "for i in range(122):\n",
        "     print(str(i) + \"-\" +chr(i))"
      ]
    }
  ],
  "metadata": {
    "colab": {
      "provenance": [],
      "toc_visible": true
    },
    "kernelspec": {
      "display_name": "Python 3",
      "name": "python3"
    },
    "language_info": {
      "codemirror_mode": {
        "name": "ipython",
        "version": 3
      },
      "file_extension": ".py",
      "mimetype": "text/x-python",
      "name": "python",
      "nbconvert_exporter": "python",
      "pygments_lexer": "ipython3",
      "version": "3.12.0"
    }
  },
  "nbformat": 4,
  "nbformat_minor": 0
}
