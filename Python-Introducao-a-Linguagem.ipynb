{
  "nbformat": 4,
  "nbformat_minor": 0,
  "metadata": {
    "colab": {
      "provenance": [],
      "toc_visible": true
    },
    "kernelspec": {
      "name": "python3",
      "display_name": "Python 3"
    },
    "language_info": {
      "name": "python"
    }
  },
  "cells": [
    {
      "cell_type": "markdown",
      "source": [
        "**Aula II – Introdução a Linguagem**\n"
      ],
      "metadata": {
        "id": "4mhc0hNVV1sq"
      }
    },
    {
      "cell_type": "code",
      "execution_count": null,
      "metadata": {
        "colab": {
          "base_uri": "https://localhost:8080/"
        },
        "id": "0CZzVDoTzSTU",
        "outputId": "dbb2f852-c2c4-4eed-985e-2aebe407ea48"
      },
      "outputs": [
        {
          "output_type": "stream",
          "name": "stdout",
          "text": [
            "Olá mundo!\n"
          ]
        }
      ],
      "source": [
        "#Esta linha imprime um texto.\n",
        "print (\"Olá mundo!\")"
      ]
    },
    {
      "cell_type": "code",
      "source": [
        "'''\n",
        "Este é um comentario\n",
        "longo do\n",
        "Python.\n",
        "'''\n",
        "print(\"Olá mundo!\")\n"
      ],
      "metadata": {
        "colab": {
          "base_uri": "https://localhost:8080/"
        },
        "id": "ekVYGpGu57_O",
        "outputId": "776d2457-2db1-4ba5-8142-e199a7d0562a"
      },
      "execution_count": null,
      "outputs": [
        {
          "output_type": "stream",
          "name": "stdout",
          "text": [
            "Olá mundo!\n"
          ]
        }
      ]
    },
    {
      "cell_type": "code",
      "source": [
        "#print(\"Olá mundo!\")"
      ],
      "metadata": {
        "id": "Y8VGOKrk6bgw"
      },
      "execution_count": null,
      "outputs": []
    },
    {
      "cell_type": "markdown",
      "source": [
        "**Indentação**"
      ],
      "metadata": {
        "id": "QoCxBi-ED63y"
      }
    },
    {
      "cell_type": "code",
      "source": [
        "x = 0\n",
        "y = 0\n",
        "if x ==0:\n",
        "  print(\"X é igual a 10.\")\n",
        "  print(\"X é igual a 10.\")\n",
        "\n",
        "if y == 0:\n",
        "  print(\"X é igual a 10.\")\n",
        "\n",
        "\n",
        "  print(\"X é igual a 10.\")"
      ],
      "metadata": {
        "colab": {
          "base_uri": "https://localhost:8080/"
        },
        "id": "_wyQcfoRD939",
        "outputId": "3fa42c1d-cb32-4b2d-e812-aa97439d126f"
      },
      "execution_count": null,
      "outputs": [
        {
          "output_type": "stream",
          "name": "stdout",
          "text": [
            "X é igual a 10.\n",
            "X é igual a 10.\n",
            "X é igual a 10.\n",
            "X é igual a 10.\n"
          ]
        }
      ]
    },
    {
      "cell_type": "markdown",
      "source": [
        "**Variáveis**"
      ],
      "metadata": {
        "id": "QfZbO5jzFsss"
      }
    },
    {
      "cell_type": "code",
      "source": [
        "idade = 32\n",
        "peso = 65.4\n",
        "nome = \"José\"\n",
        "situacao = True\n",
        "situacao2 = False"
      ],
      "metadata": {
        "id": "SUJS1utrF_xU"
      },
      "execution_count": null,
      "outputs": []
    },
    {
      "cell_type": "markdown",
      "source": [
        "**Tipos de dados**\n",
        "\n"
      ],
      "metadata": {
        "id": "vvTDlvCcKqVY"
      }
    },
    {
      "cell_type": "code",
      "source": [
        "idade = 32\n",
        "peso = 65.4\n",
        "nome = \"José\"\n",
        "situacao = True\n",
        "situacao2 = False\n",
        "\n",
        "type(idade)\n",
        "type(peso)\n",
        "type(nome)\n",
        "type(situacao)"
      ],
      "metadata": {
        "colab": {
          "base_uri": "https://localhost:8080/"
        },
        "id": "1E1JcqDAKymq",
        "outputId": "74ced7c7-f6f8-4c82-c8d3-7116742e7e6c"
      },
      "execution_count": null,
      "outputs": [
        {
          "output_type": "execute_result",
          "data": {
            "text/plain": [
              "bool"
            ]
          },
          "metadata": {},
          "execution_count": 17
        }
      ]
    },
    {
      "cell_type": "markdown",
      "source": [
        "**Aula 02 - Manipula"
      ],
      "metadata": {
        "id": "ymuAJaztVwxp"
      }
    }
  ]
}