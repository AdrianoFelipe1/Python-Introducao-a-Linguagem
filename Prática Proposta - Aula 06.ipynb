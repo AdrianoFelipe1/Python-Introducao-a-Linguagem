{
 "cells": [
  {
   "cell_type": "markdown",
   "metadata": {},
   "source": [
    "## Prática Proposta - Aula 06\n",
    "Como sugestão de prática, indicamos você a criar um novo script python seguindo as orientações a seguir:\n",
    "\n",
    "Crie uma lista abaixo com a seguinte palavra:\n",
    "“PYTHON”\n",
    "\n",
    "A lista deve conter as letras separadas e em maiúsculas.\n",
    "Crie uma nova lista somente com as três últimas letras da palavra “PYTHON”.\n"
   ]
  },
  {
   "cell_type": "code",
   "execution_count": 52,
   "metadata": {},
   "outputs": [
    {
     "name": "stdout",
     "output_type": "stream",
     "text": [
      "['H', 'O', 'N']\n"
     ]
    }
   ],
   "source": [
    "lista = ['P', 'Y', 'T', 'H', 'O', 'N']\n",
    "nova_lista = lista[3::1]\n",
    "print(nova_lista)\n"
   ]
  }
 ],
 "metadata": {
  "kernelspec": {
   "display_name": "Python 3",
   "language": "python",
   "name": "python3"
  },
  "language_info": {
   "codemirror_mode": {
    "name": "ipython",
    "version": 3
   },
   "file_extension": ".py",
   "mimetype": "text/x-python",
   "name": "python",
   "nbconvert_exporter": "python",
   "pygments_lexer": "ipython3",
   "version": "3.12.0"
  }
 },
 "nbformat": 4,
 "nbformat_minor": 2
}
