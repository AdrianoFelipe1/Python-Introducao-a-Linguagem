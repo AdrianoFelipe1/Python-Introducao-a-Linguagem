{
 "cells": [
  {
   "cell_type": "markdown",
   "metadata": {},
   "source": [
    "**Prática Proposta - Aula 02**\n",
    "Como sugestão de prática, indicamos você a criar um novo script python seguindo as orientações a seguir:\n",
    "\n",
    "Crie três inputs que receba os três dados abaixo:\n",
    "-Nome do tipo string\n",
    "\n",
    "-Altura do tipo Float\n",
    "\n",
    "-CPF do tipo inteiro\n",
    "\n",
    "Exiba através de um único print as três informações para o usuário.\n"
   ]
  },
  {
   "cell_type": "code",
   "execution_count": null,
   "metadata": {},
   "outputs": [],
   "source": [
    "nome = input (\"Escreva seu nome: \")#String\n",
    "altura = float (input(\"Escreva sua altura: \"))#Float\n",
    "cpf = int (input(\"Escreva digitos do seu CPF: \"))#Float\n",
    "\n",
    "print(\"O nome digitado é:\",nome, \"A altura digitada é:\", altura, \" O CPF digitado é: \", cpf,\".\" )"
   ]
  }
 ],
 "metadata": {
  "kernelspec": {
   "display_name": "Python 3",
   "language": "python",
   "name": "python3"
  },
  "language_info": {
   "codemirror_mode": {
    "name": "ipython",
    "version": 3
   },
   "file_extension": ".py",
   "mimetype": "text/x-python",
   "name": "python",
   "nbconvert_exporter": "python",
   "pygments_lexer": "ipython3",
   "version": "3.12.0"
  }
 },
 "nbformat": 4,
 "nbformat_minor": 2
}
