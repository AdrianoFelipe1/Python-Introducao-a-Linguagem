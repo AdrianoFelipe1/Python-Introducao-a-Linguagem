{
 "cells": [
  {
   "cell_type": "markdown",
   "metadata": {},
   "source": [
    "**Prática Proposta - Aula 02**\n",
    "Como sugestão de prática, indicamos você a criar um novo script python seguindo as orientações a seguir:\n",
    "\n",
    "Crie três inputs que receba os três dados abaixo:\n",
    "-Nome do tipo string\n",
    "\n",
    "-Altura do tipo Float\n",
    "\n",
    "-CPF do tipo inteiro\n",
    "\n",
    "Exiba através de um único print as três informações para o usuário.\n"
   ]
  },
  {
   "cell_type": "code",
   "execution_count": null,
   "metadata": {},
   "outputs": [],
   "source": []
  }
 ],
 "metadata": {
  "language_info": {
   "name": "python"
  }
 },
 "nbformat": 4,
 "nbformat_minor": 2
}
